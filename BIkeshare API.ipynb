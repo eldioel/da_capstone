{
 "cells": [
  {
   "cell_type": "markdown",
   "id": "42b1804f",
   "metadata": {},
   "source": [
    "Import Libraries"
   ]
  },
  {
   "cell_type": "code",
   "execution_count": 1,
   "id": "4969812a",
   "metadata": {},
   "outputs": [],
   "source": [
    "import sqlite3\n",
    "import requests\n",
    "from tqdm import tqdm\n",
    "\n",
    "from flask import Flask, request\n",
    "import json \n",
    "import numpy as np\n",
    "import pandas as pd"
   ]
  },
  {
   "cell_type": "markdown",
   "id": "866ab80a",
   "metadata": {},
   "source": [
    "# Introduction\n",
    "In most cases when we are running a business, there are a lot of data stakeholder outside our company. The problem is that we need to provide the access in a way that they will not break our security rules or concerns. One way to solve that is by creating an API for the database. In this project, we will introduce you on how python is used for data transaction management using Flask API. \n",
    "\n",
    "**Usecase**: Bikeshare App\\\n",
    "Have you ever rent a bike for faster mobility in town? In the past few years, this business once become a phenomenom. In Indonesia, there are lots of similar services, for example, the Jakarta government's \"GOWES\" bike sharing service that launcehd in July 2020. \n",
    "\n",
    "For the user perspective, the general journey is denoted as follows:\n",
    "- User scan the bike located at some bike station, sending the data to database as the intent of \"start riding\"\n",
    "- Once user has reached its destination station, he/she put back the bike, sending the data again to the database as the intent of \"finished riding\"\n",
    "\n",
    "For each activity, there are data transactions between user and database. And how do you think each user's phone communicate with the server for storing and receiving the data? Using API ofcourse! \n",
    "\n",
    "We will later create a simplified version of the API service which handles data transactions and analysis. \n",
    "\n",
    "\n",
    "**Goals**: Make an API service to connect 3rd party user with data using HTTP request\n",
    "\n",
    "**End Product**: A Flask API which capable of doing: \n",
    "- Input new data to database\n",
    "- Read specific data from database\n",
    "- Get specific insight from data analysis process (ie: best performing stations)\n",
    "\n",
    "**Scoring Metrics**: \n",
    "\n",
    "1. 1 point - Created Flask App\n",
    "2. 2 poitns - Created functionality to read or get specific data from the databse\n",
    "3. 4 points - Created functionality to input new data into each table for the databases\n",
    "4. 3 points - Created static endpoints which return analytical result (must be different from point 2,3)\n",
    "5. 3 points - Created dynamic endpoints which return analytical result (must be different from point 2,3,4)\n",
    "6. 3 points - Created POST endpoint which receive input data, then utilize it to get analytical result (must be different from point 2,3,4,5)\n",
    "\n",
    "**Tools**: \n",
    "- **Python** with **Jupyter Notebook**, installed with **required libraries**\n",
    "- **Visual Studio Code (VSCode)**: Recommended for writing application scripts\n",
    "- **TablePlus**: Recommended for easy database access and exploration\n",
    "- Postman: Optional for easy API testing\n"
   ]
  },
  {
   "cell_type": "markdown",
   "id": "d3a416cc",
   "metadata": {},
   "source": [
    "# About the Data"
   ]
  },
  {
   "cell_type": "markdown",
   "id": "e69f5d33",
   "metadata": {},
   "source": [
    "The data that we will be using in this project is **[Austin Bike Share]()** dataset which contains information on bike trip start location, stop location, duration, type of bike share user in the city of Austin, Texas. Bike station location data is also provided. \n",
    "\n",
    "All the information is stored in a database called **austin_bikeshare.db**. However, we also provides the non existing data in csv files. These data then will be imported into the database using the API"
   ]
  },
  {
   "cell_type": "markdown",
   "id": "218e18d7",
   "metadata": {},
   "source": [
    "Lists of files:\n",
    "- **austin_bikeshare.db**: The database, contains `trips` and `stations` table\n",
    "- **data/austin_bikeshare_stations.csv**: contains all the stations information which is not yet available in the database table\n",
    "- **data/austin_bikeshare_trips_2021.csv**: contains all 2021 data which is not yet available in the database table"
   ]
  },
  {
   "cell_type": "code",
   "execution_count": 21,
   "id": "bc1cf20c",
   "metadata": {},
   "outputs": [
    {
     "data": {
      "text/plain": [
       "(17982, 9)"
      ]
     },
     "execution_count": 21,
     "metadata": {},
     "output_type": "execute_result"
    }
   ],
   "source": [
    "# Reading the csv data\n",
    "trips = pd.read_csv('data/austin_bikeshare_trips_2021.csv')\n",
    "stations = pd.read_csv('data/austin_bikeshare_stations.csv')\n",
    "trips.shape"
   ]
  },
  {
   "cell_type": "markdown",
   "id": "e9aa0326",
   "metadata": {},
   "source": [
    "## Taking a look for trips data\n",
    "`trips` table in database, or `austin_bikeshare_trips.csv` in original files. It roughly consisted of 1.3 million rows"
   ]
  },
  {
   "cell_type": "code",
   "execution_count": null,
   "id": "cdfa06c1",
   "metadata": {},
   "outputs": [],
   "source": [
    "trips.head(2)\n",
    "# trips.shape"
   ]
  },
  {
   "cell_type": "markdown",
   "id": "394dde97",
   "metadata": {},
   "source": [
    "**Data Descriptions**:\n",
    "- `bikeid`: integer id of bike\n",
    "- `checkout_time`: HH:MM:SS, see start time for date stamp\n",
    "- `duration_minutes`: int minutes of trip duration\n",
    "- `endstationid`: integer id of end station\n",
    "- `endstationname`: string of end station name\n",
    "- `month`: month, integer\n",
    "- `startstationid`: integer id of start station\n",
    "- `startstationname`: string of start station name\n",
    "- `start_time`: YYYY-MM-DD HH:MM:SS\n",
    "- `subscriber_type`: membership typ e.g. walk up, annual, other bike share, etc\n",
    "- `trip_id`: unique trip id int\n",
    "- `year`: year of trip, int"
   ]
  },
  {
   "cell_type": "markdown",
   "id": "70176297",
   "metadata": {},
   "source": [
    "## Taking a look for stations data\n",
    "`stations` table in database, or `austin_bikeshare_stations.csv` in original files "
   ]
  },
  {
   "cell_type": "code",
   "execution_count": null,
   "id": "cee2176e",
   "metadata": {},
   "outputs": [],
   "source": [
    "stations.tail(2)"
   ]
  },
  {
   "cell_type": "markdown",
   "id": "bf0527ea",
   "metadata": {},
   "source": [
    "**stations table (or austin_bikeshare_trips.csv)**:\n",
    "- `station_id`: integer id of station\n",
    "- `name`: string of station name\n",
    "- `status`: string of station status (active, closed, moved, ACL-only)\n",
    "- `address`: string of station address\n",
    "- `alternate_name`: string of station alternative name\n",
    "- `city_asset_number`: integer of station's asset number\n",
    "- `property_type`: string of station's property type\n",
    "- `number_of_docks`: integer of number of available bike docks\n",
    "- `power_type`: string of station's power source type\n",
    "- `footprint_length`: float of station' blueprint length (size of the station). Probably in meters\n",
    "- `footprint_width`: float of station' blueprint width (size of the station). Probably in meters\n",
    "- `notes`: string of additional notes\n",
    "- `council_district`: integer of stations's council district\n",
    "- `modified_date`: date of last modified information regarding the station"
   ]
  },
  {
   "cell_type": "markdown",
   "id": "aa8e1b38",
   "metadata": {},
   "source": [
    "# Database"
   ]
  },
  {
   "cell_type": "markdown",
   "id": "d20d92ef",
   "metadata": {},
   "source": [
    "The first important task is to make sure we can securely make connections to the database. In this scenario, we will connect to sqlite database, `austin_bikeshare.db` via python. In this part, we will re-visit on how to work with databases, started with making a connection, get some data, and insert data into it. \n",
    "\n",
    "You can directly connect and view the database using TablePlus, or run the following code to create the connection"
   ]
  },
  {
   "cell_type": "code",
   "execution_count": 3,
   "id": "a4a75405",
   "metadata": {},
   "outputs": [],
   "source": [
    "# Define a function to create connection for reusability purpose\n",
    "def make_connection():\n",
    "    connection = sqlite3.connect('austin_bikeshare.db')\n",
    "    return connection\n",
    "\n",
    "# Make a connection\n",
    "conn = make_connection()"
   ]
  },
  {
   "cell_type": "code",
   "execution_count": 4,
   "id": "d5cf717c",
   "metadata": {},
   "outputs": [
    {
     "data": {
      "text/plain": [
       "<sqlite3.Connection at 0x7f8bdc0d34e0>"
      ]
     },
     "execution_count": 4,
     "metadata": {},
     "output_type": "execute_result"
    }
   ],
   "source": [
    "conn"
   ]
  },
  {
   "cell_type": "markdown",
   "id": "9becc670",
   "metadata": {},
   "source": [
    "## POST: Insert data into database\n",
    "\n",
    "Generally, POST method will utilize the data sent by user for specific purporse, for example: \n",
    "\n",
    "- Insert new data into the database. \n",
    "- Operate the data into some function"
   ]
  },
  {
   "cell_type": "markdown",
   "id": "ee0d18a2",
   "metadata": {},
   "source": [
    "We will learn how to insert data into a specific table in our database. Please refer to the following code to create and run the query for the given task"
   ]
  },
  {
   "cell_type": "code",
   "execution_count": null,
   "id": "4e8f4e2e",
   "metadata": {},
   "outputs": [],
   "source": [
    "# Get the data values\n",
    "data = tuple(stations.iloc[1].fillna('').values)\n",
    "\n",
    "# Make the query\n",
    "query = f\"\"\"\n",
    "INSERT INTO stations\n",
    "VALUES {data}\n",
    "\"\"\""
   ]
  },
  {
   "cell_type": "code",
   "execution_count": null,
   "id": "fe427cfa",
   "metadata": {},
   "outputs": [],
   "source": [
    "# See the actual query looks like\n",
    "print(query)"
   ]
  },
  {
   "cell_type": "code",
   "execution_count": null,
   "id": "f9dd2691",
   "metadata": {},
   "outputs": [],
   "source": [
    "# Execute the query \n",
    "conn.execute(query)"
   ]
  },
  {
   "cell_type": "code",
   "execution_count": null,
   "id": "ab2d9061",
   "metadata": {},
   "outputs": [],
   "source": [
    "# Commit changes to database\n",
    "conn.commit()"
   ]
  },
  {
   "cell_type": "markdown",
   "id": "33f7b11c",
   "metadata": {},
   "source": [
    "Once the code above succesful, it's recomended to wrap it into a function so that we can reuse it in the future. Complete the following codes to make the function:"
   ]
  },
  {
   "cell_type": "code",
   "execution_count": null,
   "id": "e0627354",
   "metadata": {},
   "outputs": [],
   "source": [
    "def insert_into_stations(data, conn):\n",
    "    query = f\"\"\"INSERT INTO stations values {data}\"\"\"\n",
    "    try:\n",
    "        conn.execute(query)\n",
    "    except:\n",
    "        return 'Error'\n",
    "    conn.commit()\n",
    "    return 'OK'"
   ]
  },
  {
   "cell_type": "code",
   "execution_count": null,
   "id": "559f84db",
   "metadata": {},
   "outputs": [],
   "source": [
    "# Example use of the function \n",
    "conn = make_connection()\n",
    "data = tuple(stations.iloc[0].fillna('').values) # Randomly select a data\n",
    "result = insert_into_stations(data, conn)\n",
    "result"
   ]
  },
  {
   "cell_type": "code",
   "execution_count": null,
   "id": "d4a926c3",
   "metadata": {},
   "outputs": [],
   "source": [
    "result"
   ]
  },
  {
   "cell_type": "markdown",
   "id": "c3e3c211",
   "metadata": {},
   "source": [
    "**TASK: Create a Function to insert data for `trips` table**"
   ]
  },
  {
   "cell_type": "code",
   "execution_count": null,
   "id": "d96848d4",
   "metadata": {},
   "outputs": [],
   "source": [
    "# Your code here\n",
    "def insert_into_trips(data, conn):\n",
    "    query = f\"\"\"INSERT INTO trips values {data}\"\"\"\n",
    "    try:\n",
    "        conn.execute(query)\n",
    "    except:\n",
    "        return 'Error'\n",
    "    conn.commit()\n",
    "    return 'OK'\n",
    "\n",
    "data_trip = (1272968,\n",
    " 'Test',\n",
    " 'yes',\n",
    " '2021-05-05 10:38:18 UTC',\n",
    " 1008.0,\n",
    " 'Nueces @ 3rd',\n",
    " 1008.0,\n",
    " 'Nueces @ 3rd',\n",
    " 6)\n",
    "\n",
    "\n",
    "result = insert_into_trips(data_trip, conn)\n",
    "result"
   ]
  },
  {
   "cell_type": "markdown",
   "id": "5b9f8feb",
   "metadata": {},
   "source": [
    "## GET: Read specific data"
   ]
  },
  {
   "cell_type": "markdown",
   "id": "62b2548c",
   "metadata": {},
   "source": [
    "Generally, GET method will ask for specific the data in the database, alongside with additional information we might send. For example: \n",
    "- Get number of unique user\n",
    "- Get full trips information for specific user id\n",
    "- Get average trips duration and length for specific user id\n",
    "\n",
    "In this example, we will implement the most basic GET method, that is to get Station information in the table based on specific Station ID"
   ]
  },
  {
   "cell_type": "code",
   "execution_count": 32,
   "id": "890bf646",
   "metadata": {},
   "outputs": [],
   "source": [
    "# Get Specific Station ID  Query\n",
    "station_id = 2500\n",
    "query_station_id = f\"\"\"\n",
    "SELECT * FROM stations\n",
    "WHERE station_id = {station_id}\n",
    "\"\"\"\n",
    "\n",
    "# Get all station ID Query\n",
    "query_station_all = \"SELECT * FROM stations\""
   ]
  },
  {
   "cell_type": "code",
   "execution_count": 33,
   "id": "7869ab81",
   "metadata": {},
   "outputs": [
    {
     "name": "stdout",
     "output_type": "stream",
     "text": [
      "\n",
      "SELECT * FROM stations\n",
      "WHERE station_id = 2500\n",
      "\n"
     ]
    }
   ],
   "source": [
    "print(query_station_id)"
   ]
  },
  {
   "cell_type": "code",
   "execution_count": 34,
   "id": "df368822",
   "metadata": {},
   "outputs": [],
   "source": [
    "# Run the query and get the result\n",
    "result = pd.read_sql_query(query_station_id, conn)"
   ]
  },
  {
   "cell_type": "code",
   "execution_count": 35,
   "id": "bbb1220a",
   "metadata": {},
   "outputs": [
    {
     "data": {
      "text/html": [
       "<div>\n",
       "<style scoped>\n",
       "    .dataframe tbody tr th:only-of-type {\n",
       "        vertical-align: middle;\n",
       "    }\n",
       "\n",
       "    .dataframe tbody tr th {\n",
       "        vertical-align: top;\n",
       "    }\n",
       "\n",
       "    .dataframe thead th {\n",
       "        text-align: right;\n",
       "    }\n",
       "</style>\n",
       "<table border=\"1\" class=\"dataframe\">\n",
       "  <thead>\n",
       "    <tr style=\"text-align: right;\">\n",
       "      <th></th>\n",
       "      <th>station_id</th>\n",
       "      <th>name</th>\n",
       "      <th>status</th>\n",
       "      <th>address</th>\n",
       "      <th>alternate_name</th>\n",
       "      <th>city_asset_number</th>\n",
       "      <th>property_type</th>\n",
       "      <th>number_of_docks</th>\n",
       "      <th>power_type</th>\n",
       "      <th>footprint_length</th>\n",
       "      <th>footprint_width</th>\n",
       "      <th>notes</th>\n",
       "      <th>council_district</th>\n",
       "      <th>modified_date</th>\n",
       "    </tr>\n",
       "  </thead>\n",
       "  <tbody>\n",
       "    <tr>\n",
       "      <th>0</th>\n",
       "      <td>2500</td>\n",
       "      <td>Republic Square</td>\n",
       "      <td>closed</td>\n",
       "      <td>425 W 4th Street</td>\n",
       "      <td></td>\n",
       "      <td></td>\n",
       "      <td></td>\n",
       "      <td></td>\n",
       "      <td></td>\n",
       "      <td></td>\n",
       "      <td></td>\n",
       "      <td></td>\n",
       "      <td>9</td>\n",
       "      <td>2021-01-04T12:00:00Z</td>\n",
       "    </tr>\n",
       "  </tbody>\n",
       "</table>\n",
       "</div>"
      ],
      "text/plain": [
       "   station_id             name  status           address alternate_name  \\\n",
       "0        2500  Republic Square  closed  425 W 4th Street                  \n",
       "\n",
       "  city_asset_number property_type number_of_docks power_type footprint_length  \\\n",
       "0                                                                               \n",
       "\n",
       "  footprint_width notes  council_district         modified_date  \n",
       "0                                       9  2021-01-04T12:00:00Z  "
      ]
     },
     "execution_count": 35,
     "metadata": {},
     "output_type": "execute_result"
    }
   ],
   "source": [
    "result"
   ]
  },
  {
   "cell_type": "markdown",
   "id": "cc8b37e3",
   "metadata": {},
   "source": [
    "Just like the previous section, create a function to read specific station"
   ]
  },
  {
   "cell_type": "code",
   "execution_count": null,
   "id": "3d514a4d",
   "metadata": {},
   "outputs": [],
   "source": [
    "def get_station_id(station_id, conn):\n",
    "    query = f\"\"\"SELECT * FROM stations WHERE station_id = {station_id}\"\"\"\n",
    "    result = pd.read_sql_query(query, conn)\n",
    "    return result \n",
    "\n",
    "def get_all_stations(conn):\n",
    "    query = f\"\"\"SELECT * FROM stations\"\"\"\n",
    "    result = pd.read_sql_query(query, conn)\n",
    "    return result"
   ]
  },
  {
   "cell_type": "markdown",
   "id": "dece201b",
   "metadata": {},
   "source": [
    "**TASK: Create a Function to read data from `trips` table**"
   ]
  },
  {
   "cell_type": "code",
   "execution_count": 19,
   "id": "01417abd",
   "metadata": {},
   "outputs": [],
   "source": [
    "# Your code here\n",
    "def get_trip_id(trip_id, conn):\n",
    "    query = f\"\"\"SELECT * FROM trips WHERE id = {trip_id}\"\"\"\n",
    "    result = pd.read_sql_query(query, conn)\n",
    "    return result \n",
    "    \n",
    "def get_all_trips(conn):\n",
    "    query = f\"\"\"SELECT * FROM trips\"\"\"\n",
    "    result = pd.read_sql_query(query, conn)\n",
    "    return result\n"
   ]
  },
  {
   "cell_type": "code",
   "execution_count": 42,
   "id": "bf336c01",
   "metadata": {},
   "outputs": [
    {
     "data": {
      "text/html": [
       "<div>\n",
       "<style scoped>\n",
       "    .dataframe tbody tr th:only-of-type {\n",
       "        vertical-align: middle;\n",
       "    }\n",
       "\n",
       "    .dataframe tbody tr th {\n",
       "        vertical-align: top;\n",
       "    }\n",
       "\n",
       "    .dataframe thead th {\n",
       "        text-align: right;\n",
       "    }\n",
       "</style>\n",
       "<table border=\"1\" class=\"dataframe\">\n",
       "  <thead>\n",
       "    <tr style=\"text-align: right;\">\n",
       "      <th></th>\n",
       "      <th>id</th>\n",
       "      <th>subscriber_type</th>\n",
       "      <th>bikeid</th>\n",
       "      <th>start_time</th>\n",
       "      <th>start_station_id</th>\n",
       "      <th>start_station_name</th>\n",
       "      <th>end_station_id</th>\n",
       "      <th>end_station_name</th>\n",
       "      <th>duration_minutes</th>\n",
       "    </tr>\n",
       "  </thead>\n",
       "  <tbody>\n",
       "    <tr>\n",
       "      <th>0</th>\n",
       "      <td>8269930</td>\n",
       "      <td>Local365</td>\n",
       "      <td>460</td>\n",
       "      <td>2016-01-01 00:18:49 UTC</td>\n",
       "      <td>1007</td>\n",
       "      <td>Lavaca &amp; 6th</td>\n",
       "      <td>2501</td>\n",
       "      <td>5th &amp; Bowie</td>\n",
       "      <td>4</td>\n",
       "    </tr>\n",
       "  </tbody>\n",
       "</table>\n",
       "</div>"
      ],
      "text/plain": [
       "        id subscriber_type bikeid               start_time  start_station_id  \\\n",
       "0  8269930        Local365    460  2016-01-01 00:18:49 UTC              1007   \n",
       "\n",
       "  start_station_name  end_station_id end_station_name  duration_minutes  \n",
       "0       Lavaca & 6th            2501      5th & Bowie                 4  "
      ]
     },
     "execution_count": 42,
     "metadata": {},
     "output_type": "execute_result"
    }
   ],
   "source": [
    "data_trip_1 = get_trip_id(8269930, conn)\n",
    "data_trip_1"
   ]
  },
  {
   "cell_type": "code",
   "execution_count": 20,
   "id": "03a8a8bc",
   "metadata": {},
   "outputs": [
    {
     "data": {
      "text/plain": [
       "1324086"
      ]
     },
     "execution_count": 20,
     "metadata": {},
     "output_type": "execute_result"
    }
   ],
   "source": [
    "data_trip_all = get_all_trips(conn)\n",
    "data_trip_all.shape[0]"
   ]
  },
  {
   "cell_type": "markdown",
   "id": "8b96b926",
   "metadata": {},
   "source": [
    "# Flask App"
   ]
  },
  {
   "cell_type": "markdown",
   "id": "6dea680f",
   "metadata": {},
   "source": [
    "Flask is a micro-framework for python. Generally we can build any application out of it. To start with, let's make our first empy flask app. \n",
    "Creata a new file `app.py`, then copy-paste the following codes into it and save it. \n",
    "\n",
    "*Notes: it's recomended to use vscode as editor since it support vast linting supports, including python which we find really helpful in coding*"
   ]
  },
  {
   "cell_type": "markdown",
   "id": "261ec033",
   "metadata": {},
   "source": [
    "```python\n",
    "from flask import Flask, request\n",
    "app = Flask(__name__) \n",
    "\n",
    "if __name__ == '__main__':\n",
    "    app.run(debug=True, port=5000)\n",
    "```"
   ]
  },
  {
   "cell_type": "markdown",
   "id": "692df409",
   "metadata": {},
   "source": [
    "To run the app, you can open your terminal, go to the specific folder and run `python app.py` using your designated virtual environment"
   ]
  },
  {
   "cell_type": "markdown",
   "id": "74c6bb0a",
   "metadata": {},
   "source": [
    "## Routes and Endpoints"
   ]
  },
  {
   "cell_type": "markdown",
   "id": "c86ad280",
   "metadata": {},
   "source": [
    "### Implement endpoints"
   ]
  },
  {
   "cell_type": "markdown",
   "id": "89f6760f",
   "metadata": {},
   "source": [
    "If you succesfully run the previous app and access the localhost:5000 , you might get an 404 not found error. This is because we **have not** define yet what will happen if people accessing our root path of the app (localhost:5000/)\n",
    "\n",
    "Add the following example of route or endpoint into your `app.py` just before the `if __name__ === '__main__':` line, and reload the page to see if it works"
   ]
  },
  {
   "cell_type": "markdown",
   "id": "f4b6ba6f",
   "metadata": {},
   "source": [
    "```python \n",
    "@app.route('/')\n",
    "def home():\n",
    "    return 'Hello World'\n",
    "```"
   ]
  },
  {
   "cell_type": "markdown",
   "id": "c656ae5c",
   "metadata": {},
   "source": [
    "Above endpoints will runs the `home` function anytime user access the `/` page.\n",
    "\n",
    "Since we are going to handle all the requests through this app, the very next step is to implement our functionalites. Let's start with implementing the functionality to read all station data\n",
    "\n",
    "we will add the `get_all_stations()` functions into our app, create a `@app.route('/stations/')` endpoint and call the function in it. The code should looks like:\n",
    "\n",
    "```python \n",
    "@app.route('/stations/')\n",
    "def route_all_stations():\n",
    "    conn = make_connection()\n",
    "    stations = get_all_stations(conn)\n",
    "    return stations.to_json()\n",
    "    \n",
    "def get_all_stations(conn):\n",
    "    query = f\"\"\"SELECT * FROM stations\"\"\"\n",
    "    result = pd.read_sql_query(query, conn)\n",
    "    return result\n",
    "```"
   ]
  },
  {
   "cell_type": "markdown",
   "id": "8759e83b",
   "metadata": {},
   "source": [
    "However, adding just above codes is not enough. If you see, there is a dependency inside the function, which is `make_connection()` function. Other than that, we will be using all the required libraries. \n",
    "\n",
    "Hence, we can complete the code by : \n",
    "- import the required libraries at the top of the `app.py` file\n",
    "- write the `make_connection()` function before any routes declarations"
   ]
  },
  {
   "cell_type": "markdown",
   "id": "af0bcdf9",
   "metadata": {},
   "source": [
    "Once it's completed, you should see no errors in the vscode screen, and your endpoint should work just fine and returns all the stations. It's now your task to impelement the `get_all_trips` into the app "
   ]
  },
  {
   "cell_type": "markdown",
   "id": "4642d309",
   "metadata": {},
   "source": [
    "**TASK: Implement `get_all_trips()` method into the app** \\\n",
    "Place it under `@app.route('/trips/')` endpoint"
   ]
  },
  {
   "cell_type": "code",
   "execution_count": null,
   "id": "82886da0",
   "metadata": {},
   "outputs": [],
   "source": [
    "# your code\n",
    "def route_all_trips():\n",
    "    conn = make_connection()\n",
    "    trips = get_all_trips(conn)\n",
    "    return trips.to_json()\n",
    "\n",
    "def get_all_trips(conn):\n",
    "    # query = f\"\"\"SELECT * FROM trips limit 20\"\"\"\n",
    "    query = f\"\"\"SELECT * FROM trips\"\"\"\n",
    "    result = pd.read_sql_query(query, conn)\n",
    "    return result"
   ]
  },
  {
   "cell_type": "markdown",
   "id": "0c5be5d2",
   "metadata": {},
   "source": [
    "### Access Endpoints"
   ]
  },
  {
   "cell_type": "markdown",
   "id": "709b2d99",
   "metadata": {},
   "source": [
    "To access our endpoints using python, simply use `requests` library followed by the request method (post, get, put, delete, etc) the passed in the url or data "
   ]
  },
  {
   "cell_type": "code",
   "execution_count": 41,
   "id": "9cf4caf8",
   "metadata": {},
   "outputs": [],
   "source": [
    "url = 'http://127.0.0.1:5000/stations/'\n",
    "res = requests.get(url)"
   ]
  },
  {
   "cell_type": "code",
   "execution_count": 29,
   "id": "2f48db96",
   "metadata": {},
   "outputs": [
    {
     "data": {
      "text/plain": [
       "'{\"station_id\":{\"0\":3687,\"1\":3464,\"2\":2500,\"3\":2536,\"4\":2538,\"5\":2541,\"6\":2545,\"7\":2546,\"8\":2550,\"9\":2564,\"10\":2576,\"11\":2712,\"12\":3381,\"13\":1001,\"14\":1002,\"15\":1003,\"16\":1004,\"17\":1005,\"18\":1006,\"19\":1007,\"20\":1008,\"21\":2502,\"22\":3684,\"23\":2572,\"24\":2575,\"25\":2574,\"26\":2707,\"27\":4699,\"28\":2570,\"29\":2496,\"30\":3294,\"31\":2497,\"32\":4047,\"33\":2503,\"34\":2711,\"35\":2565,\"36\":3619,\"37\":3798,\"38\":3799,\"39\":3291,\"40\":2539,\"41\":2571,\"42\":2542,\"43\":2549,\"44\":2561,\"45\":3455,\"46\":3513,\"47\":3790,\"48\":4060,\"49\":2567,\"50\":2498,\"51\":2566,\"52\":2499,\"53\":3621,\"54\":3390,\"55\":2540,\"56\":2547,\"57\":2562,\"58\":2552,\"59\":4879,\"60\":3635,\"61\":3685,\"62\":3793,\"63\":4050,\"64\":4051,\"65\":4057,\"66\":2548,\"67\":2494,\"68\":2495,\"69\":2501,\"70\":2563,\"71\":3293,\"72\":4052,\"73\":4054,\"74\":4055,\"75\":4058,\"76\":4059,\"77\":4061,\"78\":4062,\"79\":3292,\"80\":2544,\"81\":2568,\"82\":2569,\"83\":3660,\"84\":2822,\"85\":2823,\"86\":2504,\"87\":2537,\"88\":3686,\"89\":3791,\"90\":3792,\"91\":3838,\"92\":3841,\"93\":4048,\"94\":3377,\"95\":3794,\"96\":3795,\"97\":3797},\"name\":{\"0\":\"Boardwalk West\",\"1\":\"Pease Park\",\"2\":\"Republic Square\",\"3\":\"Waller & 6th St.\",\"4\":\"Bullock Museum @ Congress & MLK\",\"5\":\"State Capitol @ 14th & Colorado\",\"6\":\"ACC - Rio Grande & 12th\",\"7\":\"ACC - West & 12th Street\",\"8\":\"Republic Square @ Guadalupe & 4th St.\",\"9\":\"5th & San Marcos\",\"10\":\"Rainey @ River St\",\"11\":\"Toomey Rd @ South Lamar\",\"12\":\"East 7th & Pleasant Valley\",\"13\":\"OFFICE\\\\/Main\\\\/Shop\\\\/Repair\",\"14\":\"6th & Navasota St.\",\"15\":\"8th & Guadalupe\",\"16\":\"Red River & LBJ Library\",\"17\":\"State Parking Garage @ Brazos & 18th\",\"18\":\"Zilker Park West\",\"19\":\"Lavaca & 6th\",\"20\":\"Nueces @ 3rd\",\"21\":\"Barton Springs & Riverside\",\"22\":\"Congress & Cesar Chavez\",\"23\":\"Barton Springs Pool\",\"24\":\"Riverside @ S. Lamar\",\"25\":\"Zilker Park\",\"26\":\"Rainey St @ Cummings\",\"27\":\"East 5th\\\\/Shady @ Eastside Bus Plaza\",\"28\":\"South Congress & Academy\",\"29\":\"8th & Congress\",\"30\":\"Lavaca & 6th\",\"31\":\"Capitol Station \\\\/ Congress & 11th\",\"32\":\"8th & Lavaca\",\"33\":\"South Congress & James\",\"34\":\"Barton Springs @ Kinney Ave\",\"35\":\"Trinity & 6th Street\",\"36\":\"6th & Congress\",\"37\":\"21st & Speedway @PCL\",\"38\":\"23rd & San Jacinto @ DKR Stadium\",\"39\":\"11th & San Jacinto\",\"40\":\"Convention Center \\\\/ 3rd & Trinity\",\"41\":\"Red River & 8th Street\",\"42\":\"Plaza Saltillo\",\"43\":\"Long Center @ South 1st & Riverside\",\"44\":\"State Capitol Visitors Garage @ San Jacinto & 12th\",\"45\":\"Republic Square @ 5th & Guadalupe\",\"46\":\"South Congress & Barton Springs at the Austin American-Statesman\",\"47\":\"Lake Austin Blvd @ Deep Eddy\",\"48\":\"Red River\\\\/Cesar Chavez @ The Fairmont\",\"49\":\"Palmer Auditorium\",\"50\":\"Convention Center \\\\/ 4th St. @ MetroRail\",\"51\":\"Pfluger Bridge @ W 2nd Street\",\"52\":\"City Hall \\\\/ Lavaca & 2nd\",\"53\":\"Nueces & 3rd\",\"54\":\"Brazos & 6th\",\"55\":\"17th & Guadalupe\",\"56\":\"Guadalupe & 21st\",\"57\":\"San Jacinto & 8th Street\",\"58\":\"3rd & West\",\"59\":\"16th\\\\/San Antonio\",\"60\":\"13th & San Antonio\",\"61\":\"Henderson & 9th\",\"62\":\"Rio Grande & 28th\",\"63\":\"5th & Campbell\",\"64\":\"10th & Red River\",\"65\":\"6th & Chalmers\",\"66\":\"UT West Mall @ Guadalupe\",\"67\":\"2nd & Congress\",\"68\":\"4th & Congress\",\"69\":\"5th & Bowie\",\"70\":\"Davis at Rainey Street\",\"71\":\"East 2nd & Pedernales\",\"72\":\"Rosewood & Angelina\",\"73\":\"Rosewood & Chicon\",\"74\":\"11th & Salina\",\"75\":\"Hollow Creek & Barton Hills\",\"76\":\"Nash Hernandez @ RBJ South\",\"77\":\"Lakeshore @ Austin Hostel\",\"78\":\"Lakeshore & Pleasant Valley\",\"79\":\"East 4th & Chicon\",\"80\":\"East 6th & Pedernales St.\",\"81\":\"East 11th St. at Victory Grill\",\"82\":\"East 11th St. & San Marcos\",\"83\":\"Medina & East 6th\",\"84\":\"East 6th at Robert Martinez\",\"85\":\"Capital Metro HQ - East 5th at Broadway\",\"86\":\"South Congress & Elizabeth\",\"87\":\"West & 6th St.\",\"88\":\"Sterzing at Barton Springs\",\"89\":\"Lake Austin & Enfield\",\"90\":\"22nd & Pearl\",\"91\":\"Nueces & 26th\",\"92\":\"23rd & Rio Grande\",\"93\":\"South Congress @ Bouldin Creek\",\"94\":\"MoPac Pedestrian Bridge @ Veterans Drive\",\"95\":\"Dean Keeton & Speedway\",\"96\":\"Dean Keeton & Whitis\",\"97\":\"21st & University\"},\"status\":{\"0\":\"active\",\"1\":\"closed\",\"2\":\"closed\",\"3\":\"closed\",\"4\":\"closed\",\"5\":\"closed\",\"6\":\"closed\",\"7\":\"closed\",\"8\":\"closed\",\"9\":\"closed\",\"10\":\"closed\",\"11\":\"closed\",\"12\":\"closed\",\"13\":\"active\",\"14\":\"closed\",\"15\":\"closed\",\"16\":\"closed\",\"17\":\"closed\",\"18\":\"closed\",\"19\":\"closed\",\"20\":\"closed\",\"21\":\"closed\",\"22\":\"active\",\"23\":\"active\",\"24\":\"active\",\"25\":\"active\",\"26\":\"active\",\"27\":\"active\",\"28\":\"active\",\"29\":\"active\",\"30\":\"active\",\"31\":\"active\",\"32\":\"active\",\"33\":\"active\",\"34\":\"active\",\"35\":\"active\",\"36\":\"active\",\"37\":\"active\",\"38\":\"active\",\"39\":\"active\",\"40\":\"active\",\"41\":\"active\",\"42\":\"active\",\"43\":\"active\",\"44\":\"active\",\"45\":\"active\",\"46\":\"active\",\"47\":\"active\",\"48\":\"active\",\"49\":\"active\",\"50\":\"active\",\"51\":\"active\",\"52\":\"active\",\"53\":\"active\",\"54\":\"active\",\"55\":\"closed\",\"56\":\"active\",\"57\":\"active\",\"58\":\"active\",\"59\":\"active\",\"60\":\"closed\",\"61\":\"active\",\"62\":\"active\",\"63\":\"active\",\"64\":\"active\",\"65\":\"active\",\"66\":\"active\",\"67\":\"active\",\"68\":\"active\",\"69\":\"active\",\"70\":\"active\",\"71\":\"active\",\"72\":\"active\",\"73\":\"active\",\"74\":\"active\",\"75\":\"active\",\"76\":\"active\",\"77\":\"active\",\"78\":\"active\",\"79\":\"active\",\"80\":\"active\",\"81\":\"active\",\"82\":\"active\",\"83\":\"active\",\"84\":\"active\",\"85\":\"active\",\"86\":\"active\",\"87\":\"active\",\"88\":\"active\",\"89\":\"active\",\"90\":\"active\",\"91\":\"active\",\"92\":\"active\",\"93\":\"active\",\"94\":\"active\",\"95\":\"active\",\"96\":\"active\",\"97\":\"active\"},\"address\":{\"0\":\"300 E. Riverside Dr.\",\"1\":\"1155 Kingsbury St\",\"2\":\"425 W 4th Street\",\"3\":\"602 Waller St.\",\"4\":\"1881 Congress Ave.\",\"5\":\"206 W. 14th St.\",\"6\":\"700 W. 12th St.\",\"7\":\"1231 West Ave.\",\"8\":\"Presented by Austin Ventures\",\"9\":\"991 East 5th\",\"10\":\"64 Rainey St\",\"11\":\"1301 Toomey Road\",\"12\":\"2772 E 7th\",\"13\":\"1000 Brazos\",\"14\":\"1308 W. 6th St.\",\"15\":\"800 Guadalupe St.\",\"16\":\"2322 Red River Street\",\"17\":\"1789 Brazos St.\",\"18\":\"Barton Springs Rd\",\"19\":\"601 Lavaca St.\",\"20\":\"311 Nueces\",\"21\":\"400 Barton Springs Rd.\",\"22\":\"124 W Cesar Chavez St\",\"23\":\"2200 William Barton Dr.\",\"24\":\"Presented by Austin Parks Foundation\",\"25\":\"Barton Springs Rd\",\"26\":\"1 Rainey St\",\"27\":\"5104 East 5th. Street\",\"28\":\"1199 S. Congress Ave.\",\"29\":\"111 E. 8th St.\",\"30\":\"619 Guadalupe St.\",\"31\":\"1090 Congress Ave.\",\"32\":\"750 Lavaca Street\",\"33\":\"Presented by The Austin Chronicle\",\"34\":\"1530 Barton Springs Road\",\"35\":\"606 Trinity Street\",\"36\":\"600 Congress Ave.\",\"37\":\"E. 21st St.\",\"38\":\"E. 23rd St.\",\"39\":\"310 E. 11th St.\",\"40\":\"212 Trinity\",\"41\":\"761 Red River St.\",\"42\":\"1501 E. 5th St.\",\"43\":\"Presented by Austin Energy\",\"44\":\"1201 San Jacinto Blvd.\",\"45\":\"Federal Courthouse Plaza\",\"46\":\"305 S. Congress Ave.\",\"47\":\"2401 Lake Austin Blvd\",\"48\":\"101 Red River St.\",\"49\":\"900 Barton Springs Rd.\",\"50\":\"499 E. 4th St\",\"51\":\"Presented by Austin Parks Foundation\",\"52\":\"Presented by Graves Dougherty Hearon & Moody\",\"53\":\"311 Nueces St.\",\"54\":\"585 Brazos St.\",\"55\":\"411 W. 17th St.\",\"56\":\"2100 Guadalupe St.\",\"57\":\"782 San Jacinto Blvd.\",\"58\":\"652 W. 3rd St\",\"59\":\"1601 San Antonio Street\",\"60\":\"1285 San Antonio St.\",\"61\":\"672 Henderson Street\",\"62\":\"2717 Rio Grande St.\",\"63\":\"1611 W 5th St\",\"64\":\"699 East 10th Street\",\"65\":\"639 Chalmers Avenue\",\"66\":\"2242 Guadalupe St.\",\"67\":\"151 E. 2nd St\",\"68\":\"120 W. 4th St.\",\"69\":\"Presented by Whole Foods Market\",\"70\":\"698 Davis St.\",\"71\":\"2414 E 2nd St\",\"72\":\"1153 Angelina Street\",\"73\":\"1909 Rosewood Avenue\",\"74\":\"1705 E 11th St\",\"75\":\"1106 Hollow Creek Dr\",\"76\":\"1316 Festival Beach Rd\",\"77\":\"2200 S Lakeshore Blvd\",\"78\":\"2525 South Lakeshore Boulevard\",\"79\":\"1819 East 4th St.\",\"80\":\"2498 E. 6th St.\",\"81\":\"1106 E. 11th St.\",\"82\":\"1001 E. 11th St.\",\"83\":\"590 Medina St.\",\"84\":\"2120 East 6th St\",\"85\":\"2910 E 5th St\",\"86\":\"101 Elizabeth St. W\",\"87\":\"603 West Ave.\",\"88\":\"1825 Barton Springs Rd\",\"89\":\"3825 Lake Austin Blvd\",\"90\":\"900 W. 22nd\",\"91\":\"600 W. 26th St.\",\"92\":\"2308 Rio Grande St.\",\"93\":\"799 South Congress Avenue\",\"94\":\"2105 Veterans Dr.\",\"95\":\"180 E. Dean Keeton St.\",\"96\":\"300 W. Dean Keeton St.\",\"97\":\"2007 University Ave.\"},\"alternate_name\":{\"0\":\"\",\"1\":\"\",\"2\":\"\",\"3\":\"\",\"4\":\"\",\"5\":\"\",\"6\":\"\",\"7\":\"\",\"8\":\"\",\"9\":\"\",\"10\":\"\",\"11\":\"\",\"12\":\"\",\"13\":\"\",\"14\":\"\",\"15\":\"\",\"16\":\"\",\"17\":\"\",\"18\":\"\",\"19\":\"\",\"20\":\"\",\"21\":\"\",\"22\":\"\",\"23\":\"\",\"24\":\"\",\"25\":\"Zilker Park at Barton Springs and William Burton Drive\",\"26\":\"\",\"27\":\"\",\"28\":\"\",\"29\":\"\",\"30\":\"\",\"31\":\"\",\"32\":\"\",\"33\":\"\",\"34\":\"\",\"35\":\"\",\"36\":\"Congress & 6th Street\",\"37\":\"\",\"38\":\"\",\"39\":\"\",\"40\":\"\",\"41\":\"\",\"42\":\"\",\"43\":\"\",\"44\":\"\",\"45\":\"\",\"46\":\"\",\"47\":\"\",\"48\":\"\",\"49\":\"\",\"50\":\"\",\"51\":\"\",\"52\":\"\",\"53\":\"\",\"54\":\"\",\"55\":\"\",\"56\":\"\",\"57\":\"\",\"58\":\"\",\"59\":\"\",\"60\":\"\",\"61\":\"\",\"62\":\"\",\"63\":\"\",\"64\":\"\",\"65\":\"\",\"66\":\"\",\"67\":\"\",\"68\":\"\",\"69\":\"\",\"70\":\"\",\"71\":\"\",\"72\":\"\",\"73\":\"\",\"74\":\"\",\"75\":\"\",\"76\":\"\",\"77\":\"\",\"78\":\"\",\"79\":\"\",\"80\":\"\",\"81\":\"\",\"82\":\"\",\"83\":\"\",\"84\":\"\",\"85\":\"\",\"86\":\"\",\"87\":\"\",\"88\":\"\",\"89\":\"\",\"90\":\"\",\"91\":\"\",\"92\":\"\",\"93\":\"\",\"94\":\"\",\"95\":\"\",\"96\":\"\",\"97\":\"\"},\"city_asset_number\":{\"0\":16683,\"1\":\"\",\"2\":\"\",\"3\":\"\",\"4\":\"\",\"5\":\"\",\"6\":\"\",\"7\":\"\",\"8\":\"\",\"9\":\"\",\"10\":\"\",\"11\":\"\",\"12\":\"\",\"13\":\"\",\"14\":\"\",\"15\":\"\",\"16\":\"\",\"17\":\"\",\"18\":\"\",\"19\":\"\",\"20\":\"\",\"21\":\"\",\"22\":32594,\"23\":16758,\"24\":16736,\"25\":16759,\"26\":16597,\"27\":32522,\"28\":16752,\"29\":16725,\"30\":32515,\"31\":16735,\"32\":32710,\"33\":16730,\"34\":16599,\"35\":16763,\"36\":16743,\"37\":32675,\"38\":32676,\"39\":32503,\"40\":16747,\"41\":16760,\"42\":16746,\"43\":16750,\"44\":16764,\"45\":16741,\"46\":16745,\"47\":32673,\"48\":32691,\"49\":16753,\"50\":16734,\"51\":16762,\"52\":16732,\"53\":16742,\"54\":16754,\"55\":16739,\"56\":16749,\"57\":16755,\"58\":16727,\"59\":16739,\"60\":32522,\"61\":32593,\"62\":32668,\"63\":32745,\"64\":32686,\"65\":32690,\"66\":16748,\"67\":16733,\"68\":16726,\"69\":16728,\"70\":16751,\"71\":16729,\"72\":32687,\"73\":32688,\"74\":32689,\"75\":32685,\"76\":32693,\"77\":32692,\"78\":32711,\"79\":32516,\"80\":16738,\"81\":16757,\"82\":16756,\"83\":16761,\"84\":16674,\"85\":16684,\"86\":16731,\"87\":16737,\"88\":32592,\"89\":32672,\"90\":32669,\"91\":16744,\"92\":16740,\"93\":32746,\"94\":16598,\"95\":32670,\"96\":32671,\"97\":32674},\"property_type\":{\"0\":\"parkland\",\"1\":\"\",\"2\":\"\",\"3\":\"\",\"4\":\"\",\"5\":\"\",\"6\":\"\",\"7\":\"\",\"8\":\"\",\"9\":\"\",\"10\":\"\",\"11\":\"\",\"12\":\"\",\"13\":\"\",\"14\":\"\",\"15\":\"\",\"16\":\"\",\"17\":\"\",\"18\":\"\",\"19\":\"\",\"20\":\"\",\"21\":\" \",\"22\":\"parkland\",\"23\":\"parkland\",\"24\":\"parkland\",\"25\":\"parkland\",\"26\":\"parkland\",\"27\":\"sidewalk\",\"28\":\"sidewalk\",\"29\":\"sidewalk\",\"30\":\"sidewalk\",\"31\":\"sidewalk\",\"32\":\"sidewalk\",\"33\":\"sidewalk\",\"34\":\"sidewalk\",\"35\":\"sidewalk\",\"36\":\"sidewalk\",\"37\":\"sidewalk\",\"38\":\"sidewalk\",\"39\":\"sidewalk\",\"40\":\"sidewalk\",\"41\":\"sidewalk\",\"42\":\"sidewalk\",\"43\":\"sidewalk\",\"44\":\"sidewalk\",\"45\":\"sidewalk\",\"46\":\"sidewalk\",\"47\":\"sidewalk\",\"48\":\"sidewalk\",\"49\":\"sidewalk\",\"50\":\"sidewalk\",\"51\":\"sidewalk\",\"52\":\"sidewalk\",\"53\":\"paid_parking\",\"54\":\"paid_parking\",\"55\":\"paid_parking\",\"56\":\"paid_parking\",\"57\":\"paid_parking\",\"58\":\"paid_parking\",\"59\":\"paid_parking\",\"60\":\"paid_parking\",\"61\":\"paid_parking\",\"62\":\"paid_parking\",\"63\":\"paid_parking\",\"64\":\"paid_parking\",\"65\":\"paid_parking\",\"66\":\"paid_parking\",\"67\":\"paid_parking\",\"68\":\"paid_parking\",\"69\":\"paid_parking\",\"70\":\"paid_parking\",\"71\":\"nonmetered_parking\",\"72\":\"nonmetered_parking\",\"73\":\"nonmetered_parking\",\"74\":\"nonmetered_parking\",\"75\":\"nonmetered_parking\",\"76\":\"nonmetered_parking\",\"77\":\"nonmetered_parking\",\"78\":\"nonmetered_parking\",\"79\":\"undetermined_parking\",\"80\":\"undetermined_parking\",\"81\":\"undetermined_parking\",\"82\":\"undetermined_parking\",\"83\":\"undetermined_parking\",\"84\":\"undetermined_parking\",\"85\":\"undetermined_parking\",\"86\":\"undetermined_parking\",\"87\":\"undetermined_parking\",\"88\":\"undetermined_parking\",\"89\":\"undetermined_parking\",\"90\":\"undetermined_parking\",\"91\":\"undetermined_parking\",\"92\":\"undetermined_parking\",\"93\":\"undetermined_parking\",\"94\":\"undetermined_parking\",\"95\":\"undetermined_parking\",\"96\":\"undetermined_parking\",\"97\":\"undetermined_parking\"},\"number_of_docks\":{\"0\":9,\"1\":\"\",\"2\":\"\",\"3\":\"\",\"4\":\"\",\"5\":\"\",\"6\":\"\",\"7\":\"\",\"8\":\"\",\"9\":\"\",\"10\":\"\",\"11\":\"\",\"12\":\"\",\"13\":\"\",\"14\":\"\",\"15\":\"\",\"16\":\"\",\"17\":\"\",\"18\":\"\",\"19\":\"\",\"20\":\"\",\"21\":\"\",\"22\":11,\"23\":13,\"24\":15,\"25\":17,\"26\":17,\"27\":10,\"28\":10,\"29\":14,\"30\":12,\"31\":18,\"32\":9,\"33\":9,\"34\":16,\"35\":11,\"36\":11,\"37\":22,\"38\":22,\"39\":11,\"40\":12,\"41\":13,\"42\":12,\"43\":13,\"44\":13,\"45\":13,\"46\":13,\"47\":13,\"48\":13,\"49\":15,\"50\":17,\"51\":19,\"52\":19,\"53\":11,\"54\":13,\"55\":12,\"56\":13,\"57\":13,\"58\":13,\"59\":12,\"60\":13,\"61\":13,\"62\":13,\"63\":13,\"64\":13,\"65\":13,\"66\":15,\"67\":15,\"68\":15,\"69\":15,\"70\":19,\"71\":10,\"72\":13,\"73\":13,\"74\":13,\"75\":13,\"76\":13,\"77\":15,\"78\":18,\"79\":9,\"80\":11,\"81\":11,\"82\":11,\"83\":11,\"84\":13,\"85\":13,\"86\":13,\"87\":13,\"88\":13,\"89\":13,\"90\":13,\"91\":13,\"92\":13,\"93\":13,\"94\":19,\"95\":19,\"96\":19,\"97\":19},\"power_type\":{\"0\":\"solar\",\"1\":\"\",\"2\":\"\",\"3\":\"\",\"4\":\"\",\"5\":\"\",\"6\":\"\",\"7\":\"\",\"8\":\"\",\"9\":\"\",\"10\":\"\",\"11\":\"\",\"12\":\"\",\"13\":\"\",\"14\":\"\",\"15\":\"\",\"16\":\"\",\"17\":\"\",\"18\":\"\",\"19\":\"\",\"20\":\"\",\"21\":\" \",\"22\":\"solar\",\"23\":\"solar\",\"24\":\"solar\",\"25\":\"solar\",\"26\":\"solar\",\"27\":\"solar\",\"28\":\"solar\",\"29\":\"solar\",\"30\":\"solar\",\"31\":\"solar\",\"32\":\"solar\",\"33\":\"solar\",\"34\":\"solar\",\"35\":\"solar\",\"36\":\"solar\",\"37\":\"solar\",\"38\":\"solar\",\"39\":\"solar\",\"40\":\"solar\",\"41\":\"solar\",\"42\":\"solar\",\"43\":\"solar\",\"44\":\"solar\",\"45\":\"non-metered\",\"46\":\"solar\",\"47\":\"solar\",\"48\":\"solar\",\"49\":\"solar\",\"50\":\"non-metered\",\"51\":\"solar\",\"52\":\"solar\",\"53\":\"solar\",\"54\":\"solar\",\"55\":\"solar\",\"56\":\"solar\",\"57\":\"solar\",\"58\":\"solar\",\"59\":\"solar\",\"60\":\"solar\",\"61\":\"solar\",\"62\":\"solar\",\"63\":\"solar\",\"64\":\"solar\",\"65\":\"solar\",\"66\":\"solar\",\"67\":\"solar\",\"68\":\"solar\",\"69\":\"solar\",\"70\":\"solar\",\"71\":\"solar\",\"72\":\"solar\",\"73\":\"solar\",\"74\":\"solar\",\"75\":\"solar\",\"76\":\"solar\",\"77\":\"solar\",\"78\":\"solar\",\"79\":\"solar\",\"80\":\"solar\",\"81\":\"solar\",\"82\":\"solar\",\"83\":\"solar\",\"84\":\"solar\",\"85\":\"solar\",\"86\":\"solar\",\"87\":\"solar\",\"88\":\"solar\",\"89\":\"solar\",\"90\":\"solar\",\"91\":\"solar\",\"92\":\"solar\",\"93\":\"solar\",\"94\":\"solar\",\"95\":\"solar\",\"96\":\"solar\",\"97\":\"solar\"},\"footprint_length\":{\"0\":30.0,\"1\":\"\",\"2\":\"\",\"3\":\"\",\"4\":\"\",\"5\":\"\",\"6\":\"\",\"7\":\"\",\"8\":\"\",\"9\":\"\",\"10\":\"\",\"11\":\"\",\"12\":\"\",\"13\":\"\",\"14\":\"\",\"15\":\"\",\"16\":\"\",\"17\":\"\",\"18\":\"\",\"19\":\"\",\"20\":\"\",\"21\":\"\",\"22\":35.0,\"23\":40.0,\"24\":45.0,\"25\":50.0,\"26\":50.0,\"27\":15.0,\"28\":20.0,\"29\":20.0,\"30\":25.0,\"31\":25.0,\"32\":25.0,\"33\":26.0,\"34\":30.0,\"35\":30.0,\"36\":30.0,\"37\":30.0,\"38\":30.0,\"39\":35.0,\"40\":35.0,\"41\":40.0,\"42\":40.0,\"43\":40.0,\"44\":40.0,\"45\":40.0,\"46\":40.0,\"47\":40.0,\"48\":40.0,\"49\":45.0,\"50\":50.0,\"51\":55.0,\"52\":55.0,\"53\":35.0,\"54\":40.0,\"55\":40.0,\"56\":40.0,\"57\":40.0,\"58\":40.0,\"59\":40.0,\"60\":40.0,\"61\":40.0,\"62\":40.0,\"63\":40.0,\"64\":40.0,\"65\":40.0,\"66\":45.0,\"67\":45.0,\"68\":45.0,\"69\":45.0,\"70\":55.0,\"71\":20.0,\"72\":40.0,\"73\":40.0,\"74\":40.0,\"75\":40.0,\"76\":40.0,\"77\":45.0,\"78\":55.0,\"79\":30.0,\"80\":35.0,\"81\":35.0,\"82\":35.0,\"83\":35.0,\"84\":40.0,\"85\":40.0,\"86\":40.0,\"87\":40.0,\"88\":40.0,\"89\":40.0,\"90\":40.0,\"91\":40.0,\"92\":40.0,\"93\":40.0,\"94\":55.0,\"95\":55.0,\"96\":55.0,\"97\":55.0},\"footprint_width\":{\"0\":5.0,\"1\":\"\",\"2\":\"\",\"3\":\"\",\"4\":\"\",\"5\":\"\",\"6\":\"\",\"7\":\"\",\"8\":\"\",\"9\":\"\",\"10\":\"\",\"11\":\"\",\"12\":\"\",\"13\":\"\",\"14\":\"\",\"15\":\"\",\"16\":\"\",\"17\":\"\",\"18\":\"\",\"19\":\"\",\"20\":\"\",\"21\":\"\",\"22\":5.0,\"23\":5.0,\"24\":5.0,\"25\":5.0,\"26\":5.0,\"27\":10.0,\"28\":7.5,\"29\":7.5,\"30\":7.5,\"31\":7.5,\"32\":5.0,\"33\":7.5,\"34\":7.5,\"35\":5.0,\"36\":5.0,\"37\":7.5,\"38\":7.5,\"39\":5.0,\"40\":5.0,\"41\":5.0,\"42\":5.0,\"43\":5.0,\"44\":5.0,\"45\":5.0,\"46\":5.0,\"47\":5.0,\"48\":5.0,\"49\":5.0,\"50\":5.0,\"51\":5.0,\"52\":5.0,\"53\":5.0,\"54\":5.0,\"55\":5.0,\"56\":5.0,\"57\":5.0,\"58\":5.0,\"59\":5.0,\"60\":5.0,\"61\":5.0,\"62\":5.0,\"63\":5.0,\"64\":5.0,\"65\":5.0,\"66\":5.0,\"67\":5.0,\"68\":5.0,\"69\":5.0,\"70\":5.0,\"71\":15.0,\"72\":5.0,\"73\":5.0,\"74\":5.0,\"75\":5.0,\"76\":5.0,\"77\":5.0,\"78\":5.0,\"79\":5.0,\"80\":5.0,\"81\":5.0,\"82\":5.0,\"83\":5.0,\"84\":5.0,\"85\":5.0,\"86\":5.0,\"87\":5.0,\"88\":5.0,\"89\":5.0,\"90\":5.0,\"91\":5.0,\"92\":5.0,\"93\":5.0,\"94\":5.0,\"95\":5.0,\"96\":5.0,\"97\":5.0},\"notes\":{\"0\":\"\",\"1\":\"\",\"2\":\"\",\"3\":\"\",\"4\":\"\",\"5\":\"\",\"6\":\"\",\"7\":\"\",\"8\":\"\",\"9\":\"\",\"10\":\"\",\"11\":\"\",\"12\":\"\",\"13\":\"\",\"14\":\"\",\"15\":\"\",\"16\":\"\",\"17\":\"\",\"18\":\"\",\"19\":\"\",\"20\":\"\",\"21\":\"moved to Pedernales\\\\/2nd. Original city ID: 16729\",\"22\":\"parkland at ROW\\\\/easement\",\"23\":\"\",\"24\":\"parkland at ROW\\\\/easement\",\"25\":\"parkland at ROW\\\\/easement\",\"26\":\"parkland at ROW\\\\/easement\",\"27\":\"\",\"28\":\"on bulb-out\",\"29\":\"double sided\",\"30\":\"double sided, remeasure\",\"31\":\"double sided\",\"32\":\"\",\"33\":\"on bulb-out\",\"34\":\"2-sided station on pad adjacent to sidewalk in ROW\\\\/easement\",\"35\":\"\",\"36\":\"remeasure\",\"37\":\"On UT property-2 sided\",\"38\":\"On UT property-2 sided\",\"39\":\"\",\"40\":\"\",\"41\":\"on pad built in ROW\\\\/easement\",\"42\":\"on station plaza\",\"43\":\"\",\"44\":\"state property?\",\"45\":\"\",\"46\":\"\",\"47\":\"\",\"48\":\"\",\"49\":\"adjacent to parkland\",\"50\":\"moving soon when CapMetro Station work complete\",\"51\":\"adjacent to parkland\",\"52\":\"check dock #-18?\",\"53\":\"\",\"54\":\"\",\"55\":\"\",\"56\":\"in buffer area parking\",\"57\":\"\",\"58\":\"\",\"59\":\"\",\"60\":\"\",\"61\":\"\",\"62\":\"\",\"63\":\"\",\"64\":\"\",\"65\":\"\",\"66\":\"in buffer area parking, check dock #\",\"67\":\"\",\"68\":\"\",\"69\":\"\",\"70\":\"\",\"71\":\"Kiosk replaced by Barton Sp\\\\/Riverside.  Old city ID: 32517\",\"72\":\"\",\"73\":\"\",\"74\":\"\",\"75\":\"\",\"76\":\"\",\"77\":\"\",\"78\":\"\",\"79\":\"\",\"80\":\"\",\"81\":\"\",\"82\":\"\",\"83\":\"\",\"84\":\"\",\"85\":\"\",\"86\":\"\",\"87\":\"\",\"88\":\"\",\"89\":\"\",\"90\":\"\",\"91\":\"\",\"92\":\"\",\"93\":\"\",\"94\":\"parkland in ROW\\\\/eastment\",\"95\":\"\",\"96\":\"\",\"97\":\"ROW might belong to UT\"},\"council_district\":{\"0\":9,\"1\":9,\"2\":9,\"3\":3,\"4\":1,\"5\":1,\"6\":9,\"7\":9,\"8\":9,\"9\":3,\"10\":9,\"11\":5,\"12\":3,\"13\":1,\"14\":3,\"15\":9,\"16\":1,\"17\":1,\"18\":8,\"19\":9,\"20\":9,\"21\":9,\"22\":9,\"23\":8,\"24\":5,\"25\":8,\"26\":9,\"27\":3,\"28\":9,\"29\":9,\"30\":9,\"31\":1,\"32\":9,\"33\":9,\"34\":5,\"35\":9,\"36\":9,\"37\":9,\"38\":1,\"39\":1,\"40\":9,\"41\":9,\"42\":3,\"43\":9,\"44\":1,\"45\":9,\"46\":9,\"47\":10,\"48\":9,\"49\":9,\"50\":9,\"51\":9,\"52\":9,\"53\":9,\"54\":9,\"55\":9,\"56\":9,\"57\":9,\"58\":9,\"59\":9,\"60\":9,\"61\":9,\"62\":9,\"63\":9,\"64\":1,\"65\":3,\"66\":9,\"67\":9,\"68\":9,\"69\":9,\"70\":9,\"71\":3,\"72\":1,\"73\":1,\"74\":1,\"75\":5,\"76\":3,\"77\":3,\"78\":3,\"79\":3,\"80\":3,\"81\":1,\"82\":1,\"83\":3,\"84\":3,\"85\":3,\"86\":9,\"87\":9,\"88\":5,\"89\":10,\"90\":9,\"91\":9,\"92\":9,\"93\":9,\"94\":9,\"95\":9,\"96\":9,\"97\":9},\"modified_date\":{\"0\":\"2021-01-04T12:00:00Z\",\"1\":\"2021-01-04T12:00:00Z\",\"2\":\"2021-01-04T12:00:00Z\",\"3\":\"2021-01-04T12:00:00Z\",\"4\":\"2021-01-04T12:00:00Z\",\"5\":\"2021-01-04T12:00:00Z\",\"6\":\"2021-01-04T12:00:00Z\",\"7\":\"2021-01-04T12:00:00Z\",\"8\":\"2021-01-04T12:00:00Z\",\"9\":\"2021-01-04T12:00:00Z\",\"10\":\"2021-01-04T12:00:00Z\",\"11\":\"2021-01-04T12:00:00Z\",\"12\":\"2021-01-04T12:00:00Z\",\"13\":\"2021-01-04T12:00:00Z\",\"14\":\"2021-01-04T12:00:00Z\",\"15\":\"2021-01-04T12:00:00Z\",\"16\":\"2021-01-04T12:00:00Z\",\"17\":\"2021-01-04T12:00:00Z\",\"18\":\"2021-01-04T12:00:00Z\",\"19\":\"2021-01-04T12:00:00Z\",\"20\":\"2021-01-04T12:00:00Z\",\"21\":\"2021-01-04T12:00:00Z\",\"22\":\"2021-01-04T12:00:00Z\",\"23\":\"2021-01-04T12:00:00Z\",\"24\":\"2021-01-04T12:00:00Z\",\"25\":\"2021-01-04T12:00:00Z\",\"26\":\"2021-01-04T12:00:00Z\",\"27\":\"2021-07-27T08:25:00Z\",\"28\":\"2021-01-04T12:00:00Z\",\"29\":\"2021-01-04T12:00:00Z\",\"30\":\"2021-01-04T12:00:00Z\",\"31\":\"2021-01-04T12:00:00Z\",\"32\":\"2021-01-04T12:00:00Z\",\"33\":\"2021-01-04T12:00:00Z\",\"34\":\"2021-01-04T12:00:00Z\",\"35\":\"2021-01-04T12:00:00Z\",\"36\":\"2021-01-04T12:00:00Z\",\"37\":\"2021-01-04T12:00:00Z\",\"38\":\"2021-01-04T12:00:00Z\",\"39\":\"2021-01-04T12:00:00Z\",\"40\":\"2021-01-04T12:00:00Z\",\"41\":\"2021-01-04T12:00:00Z\",\"42\":\"2021-01-04T12:00:00Z\",\"43\":\"2021-01-04T12:00:00Z\",\"44\":\"2021-01-04T12:00:00Z\",\"45\":\"2021-01-04T12:00:00Z\",\"46\":\"2021-01-04T12:00:00Z\",\"47\":\"2021-01-04T12:00:00Z\",\"48\":\"2021-01-04T12:00:00Z\",\"49\":\"2021-01-04T12:00:00Z\",\"50\":\"2021-01-04T12:00:00Z\",\"51\":\"2021-01-04T12:00:00Z\",\"52\":\"2021-01-04T12:00:00Z\",\"53\":\"2021-01-04T12:00:00Z\",\"54\":\"2021-01-04T12:00:00Z\",\"55\":\"2021-03-12T01:02:00Z\",\"56\":\"2021-01-04T12:00:00Z\",\"57\":\"2021-01-04T12:00:00Z\",\"58\":\"2021-01-04T12:00:00Z\",\"59\":\"2021-03-12T01:15:00Z\",\"60\":\"2021-03-12T12:49:00Z\",\"61\":\"2021-01-04T12:00:00Z\",\"62\":\"2021-01-04T12:00:00Z\",\"63\":\"2021-01-04T12:00:00Z\",\"64\":\"2021-01-04T12:00:00Z\",\"65\":\"2021-01-04T12:00:00Z\",\"66\":\"2021-01-04T12:00:00Z\",\"67\":\"2021-01-04T12:00:00Z\",\"68\":\"2021-01-04T12:00:00Z\",\"69\":\"2021-01-04T12:00:00Z\",\"70\":\"2021-01-04T12:00:00Z\",\"71\":\"2021-01-04T12:00:00Z\",\"72\":\"2021-01-04T12:00:00Z\",\"73\":\"2021-01-04T12:00:00Z\",\"74\":\"2021-01-04T12:00:00Z\",\"75\":\"2021-01-04T12:00:00Z\",\"76\":\"2021-01-04T12:00:00Z\",\"77\":\"2021-01-04T12:00:00Z\",\"78\":\"2021-01-04T12:00:00Z\",\"79\":\"2021-01-04T12:00:00Z\",\"80\":\"2021-01-04T12:00:00Z\",\"81\":\"2021-01-04T12:00:00Z\",\"82\":\"2021-01-04T12:00:00Z\",\"83\":\"2021-01-04T12:00:00Z\",\"84\":\"2021-01-04T12:00:00Z\",\"85\":\"2021-01-04T12:00:00Z\",\"86\":\"2021-01-04T12:00:00Z\",\"87\":\"2021-01-04T12:00:00Z\",\"88\":\"2021-01-04T12:00:00Z\",\"89\":\"2021-01-04T12:00:00Z\",\"90\":\"2021-01-04T12:00:00Z\",\"91\":\"2021-01-04T12:00:00Z\",\"92\":\"2021-01-04T12:00:00Z\",\"93\":\"2021-01-04T12:00:00Z\",\"94\":\"2021-01-04T12:00:00Z\",\"95\":\"2021-01-04T12:00:00Z\",\"96\":\"2021-01-04T12:00:00Z\",\"97\":\"2021-01-04T12:00:00Z\"}}'"
      ]
     },
     "execution_count": 29,
     "metadata": {},
     "output_type": "execute_result"
    }
   ],
   "source": [
    "res.text"
   ]
  },
  {
   "cell_type": "markdown",
   "id": "44353ff0",
   "metadata": {},
   "source": [
    "The response sent by the server was not only contains bare data. It was packed as HTTP response, meaning that we need to unpack the response first  in order to get the data. we can use `res.json()` to obtain it, then use pandas to transform it into dataframe for readibility or future analysis purposes. "
   ]
  },
  {
   "cell_type": "code",
   "execution_count": null,
   "id": "d62e501f",
   "metadata": {},
   "outputs": [],
   "source": [
    "pd.DataFrame(res.json())#.head()"
   ]
  },
  {
   "cell_type": "markdown",
   "id": "87275d78",
   "metadata": {},
   "source": [
    "## Static and Dynamic Endpoints"
   ]
  },
  {
   "cell_type": "markdown",
   "id": "4c7e6752",
   "metadata": {},
   "source": [
    "On previous part we already made several endpoints which control how our server will react whenever users access it. \n",
    "If we take a look at the endpoints, it's all static : \n",
    "- `@app.route('/')`\n",
    "- `@app.route('/home/')`\n",
    "- `@app.route('/stations/')`\n",
    "- `@app.route('/trips/')`\n",
    "\n",
    "\n",
    "What if, instead of getting all the stations information, we only wanted to read a specific station information of station_id 3464 ? \\\n",
    "should we make an excact endpoint of that like `@app.route('stations/3464')`?. But what about the others? are we going to make a bunch of endpoints for each specific id like: \n",
    "- `@app.route('/stations/3464')`\n",
    "- `@app.route('/stations/2500')`\n",
    "- `@app.route('/stations/2541')`\n",
    "- and so on...\n",
    "\n",
    "Of course we shouldn't. One way to overcome the problem is by delcaring a **dynamic endpoints**. Basically, it's an endpoint which allows user to insert a variable values in it. The final looks of the dynamic endpoint version of above problem is: \n",
    "- `@app.route('stations/<station_id>')`\n",
    "\n",
    "From above endpoint, the \\<station_id\\> is the variable, and we need to make sure that it influence how our following function acts. The whole dynamic endpoints for getting specific station by its id will looks like: \n",
    "\n",
    "```python \n",
    "@app.route('/stations/<station_id>')\n",
    "def route_stations_id(station_id):\n",
    "    conn = make_connection()\n",
    "    station = get_station_id(station_id, conn)\n",
    "    return station.to_json()\n",
    "```\n"
   ]
  },
  {
   "cell_type": "markdown",
   "id": "b8bdcb3d",
   "metadata": {},
   "source": [
    "Before accesing the endpoint, make sure that `make_connection()` and `get_station_id()` functions are included inside `app.py` script so that it won't raise an error. Now for the final step, we can try to access the dynamic endpoints by changing the `station_id` in the following codes"
   ]
  },
  {
   "cell_type": "code",
   "execution_count": 43,
   "id": "4fa012d8",
   "metadata": {},
   "outputs": [],
   "source": [
    "station_id = 3464\n",
    "url = f\"http://127.0.0.1:5000/stations/{station_id}\""
   ]
  },
  {
   "cell_type": "code",
   "execution_count": 44,
   "id": "788c1aa1",
   "metadata": {},
   "outputs": [
    {
     "data": {
      "text/html": [
       "<div>\n",
       "<style scoped>\n",
       "    .dataframe tbody tr th:only-of-type {\n",
       "        vertical-align: middle;\n",
       "    }\n",
       "\n",
       "    .dataframe tbody tr th {\n",
       "        vertical-align: top;\n",
       "    }\n",
       "\n",
       "    .dataframe thead th {\n",
       "        text-align: right;\n",
       "    }\n",
       "</style>\n",
       "<table border=\"1\" class=\"dataframe\">\n",
       "  <thead>\n",
       "    <tr style=\"text-align: right;\">\n",
       "      <th></th>\n",
       "      <th>station_id</th>\n",
       "      <th>name</th>\n",
       "      <th>status</th>\n",
       "      <th>address</th>\n",
       "      <th>alternate_name</th>\n",
       "      <th>city_asset_number</th>\n",
       "      <th>property_type</th>\n",
       "      <th>number_of_docks</th>\n",
       "      <th>power_type</th>\n",
       "      <th>footprint_length</th>\n",
       "      <th>footprint_width</th>\n",
       "      <th>notes</th>\n",
       "      <th>council_district</th>\n",
       "      <th>modified_date</th>\n",
       "    </tr>\n",
       "  </thead>\n",
       "  <tbody>\n",
       "    <tr>\n",
       "      <th>0</th>\n",
       "      <td>3464</td>\n",
       "      <td>Pease Park</td>\n",
       "      <td>closed</td>\n",
       "      <td>1155 Kingsbury St</td>\n",
       "      <td></td>\n",
       "      <td></td>\n",
       "      <td></td>\n",
       "      <td></td>\n",
       "      <td></td>\n",
       "      <td></td>\n",
       "      <td></td>\n",
       "      <td></td>\n",
       "      <td>9</td>\n",
       "      <td>2021-01-04T12:00:00Z</td>\n",
       "    </tr>\n",
       "  </tbody>\n",
       "</table>\n",
       "</div>"
      ],
      "text/plain": [
       "   station_id        name  status            address alternate_name  \\\n",
       "0        3464  Pease Park  closed  1155 Kingsbury St                  \n",
       "\n",
       "  city_asset_number property_type number_of_docks power_type footprint_length  \\\n",
       "0                                                                               \n",
       "\n",
       "  footprint_width notes  council_district         modified_date  \n",
       "0                                       9  2021-01-04T12:00:00Z  "
      ]
     },
     "execution_count": 44,
     "metadata": {},
     "output_type": "execute_result"
    }
   ],
   "source": [
    "response = requests.get(url)\n",
    "pd.DataFrame(response.json())"
   ]
  },
  {
   "cell_type": "markdown",
   "id": "ab9e322a",
   "metadata": {},
   "source": [
    "**TASK: Implement dynamic endpoints to read specific trip by its trip_id!** \\\n",
    "Place it under `@app.route('/trips/<trip_id>')` endpoint\n",
    "\n",
    "\n",
    "**answer:**\n",
    "```python\n",
    "@app.route('/trips/<trips_id>')\n",
    "def route_trips_id(trips_id):\n",
    "    conn = make_connection()\n",
    "    trips = get_trip_id(trips_id, conn)\n",
    "    return trips.to_json()\n",
    "````\n"
   ]
  },
  {
   "cell_type": "markdown",
   "id": "c0aa236d",
   "metadata": {},
   "source": [
    "## Handling JSON data as input"
   ]
  },
  {
   "cell_type": "markdown",
   "id": "8bb9a764",
   "metadata": {},
   "source": [
    "Sometimes, in order to make something happens in our API, we need the user to send us the data. In this case, we need to handle how we can get the data (which mostly sent as json format) and utilize it inside our endpoint functions. \n",
    "\n",
    "In order to achieve that, we will be using flask's `request` classes.\n",
    "\n",
    "\n",
    "```python\n",
    "@app.route('/json') #harusnya tambah methods=['POST'] di method route krna pke post kan, mungkin default get \n",
    "def json_example():\n",
    "    \n",
    "    req = request.get_json(force=True) # Parse the incoming json data as Dictionary\n",
    "    \n",
    "    name = req['name']\n",
    "    age = req['age']\n",
    "    address = req['address']\n",
    "    \n",
    "    return (f'''Hello {name}, your age is {age}, and your address in {address}\n",
    "            ''')\n",
    "```"
   ]
  },
  {
   "cell_type": "code",
   "execution_count": null,
   "id": "4b6339d5",
   "metadata": {},
   "outputs": [],
   "source": [
    "data = {\n",
    "    \"name\" : \"Andi\", \n",
    "    \"age\" : 24,\n",
    "    \"address\" : \"my adress\"\n",
    "}\n",
    "\n",
    "url = \"http://127.0.0.1:5000/json\""
   ]
  },
  {
   "cell_type": "code",
   "execution_count": null,
   "id": "e49428f0",
   "metadata": {},
   "outputs": [],
   "source": [
    "res = requests.post(url, json=data)"
   ]
  },
  {
   "cell_type": "code",
   "execution_count": null,
   "id": "68942b9c",
   "metadata": {},
   "outputs": [],
   "source": [
    "res"
   ]
  },
  {
   "cell_type": "code",
   "execution_count": null,
   "id": "cf76c4c8",
   "metadata": {},
   "outputs": [],
   "source": [
    "res.text"
   ]
  },
  {
   "cell_type": "markdown",
   "id": "6b8e82b3",
   "metadata": {},
   "source": [
    "Now that we already know how to handle json input, we can try to implement and endpoint in which we can insert new data into `stations` table. "
   ]
  },
  {
   "cell_type": "markdown",
   "id": "b5538b22",
   "metadata": {},
   "source": [
    "```python\n",
    "\n",
    "@app.route('/stations/add', methods=['POST']) \n",
    "def route_add_station():\n",
    "    # parse and transform incoming data into a tuple as we need \n",
    "    data = pd.Series(eval(request.get_json(force=True)))\n",
    "    data = tuple(data.fillna('').values)\n",
    "    \n",
    "    conn = make_connection()\n",
    "    result = insert_into_stations(data, conn)\n",
    "    return result\n",
    "\n",
    "\n",
    "```"
   ]
  },
  {
   "cell_type": "code",
   "execution_count": 9,
   "id": "e84135f3",
   "metadata": {},
   "outputs": [],
   "source": [
    "class NpEncoder(json.JSONEncoder):\n",
    "    def default(self, obj):\n",
    "        if isinstance(obj, np.integer):\n",
    "            return int(obj)\n",
    "        if isinstance(obj, np.floating):\n",
    "            return float(obj)\n",
    "        if isinstance(obj, np.ndarray):\n",
    "            return obj.tolist()\n",
    "        return super(NpEncoder, self).default(obj)"
   ]
  },
  {
   "cell_type": "code",
   "execution_count": 10,
   "id": "e299962c",
   "metadata": {},
   "outputs": [
    {
     "data": {
      "text/plain": [
       "'{\"station_id\": 3687, \"name\": \"Boardwalk West\", \"status\": \"active\", \"address\": \"300 E. Riverside Dr.\", \"alternate_name\": \"\", \"city_asset_number\": 16683.0, \"property_type\": \"parkland\", \"number_of_docks\": 9.0, \"power_type\": \"solar\", \"footprint_length\": 30.0, \"footprint_width\": 5.0, \"notes\": \"\", \"council_district\": 9, \"modified_date\": \"2021-01-04T12:00:00Z\"}'"
      ]
     },
     "execution_count": 10,
     "metadata": {},
     "output_type": "execute_result"
    }
   ],
   "source": [
    "data = stations.iloc[21].fillna('').to_dict()\n",
    "data_json = json.dumps(data, cls=NpEncoder)\n",
    "data_json"
   ]
  },
  {
   "cell_type": "code",
   "execution_count": 11,
   "id": "7bed3606",
   "metadata": {},
   "outputs": [],
   "source": [
    "url = \"http://127.0.0.1:5000/stations/add\"\n",
    "res = requests.post(url, json=data_json)"
   ]
  },
  {
   "cell_type": "code",
   "execution_count": 12,
   "id": "2a6d3a5a",
   "metadata": {},
   "outputs": [
    {
     "data": {
      "text/plain": [
       "<Response [200]>"
      ]
     },
     "execution_count": 12,
     "metadata": {},
     "output_type": "execute_result"
    }
   ],
   "source": [
    "res"
   ]
  },
  {
   "cell_type": "code",
   "execution_count": 13,
   "id": "302b13c0",
   "metadata": {},
   "outputs": [
    {
     "data": {
      "text/plain": [
       "'OK'"
      ]
     },
     "execution_count": 13,
     "metadata": {},
     "output_type": "execute_result"
    }
   ],
   "source": [
    "res.text"
   ]
  },
  {
   "cell_type": "code",
   "execution_count": 17,
   "id": "dc08e859",
   "metadata": {},
   "outputs": [
    {
     "name": "stderr",
     "output_type": "stream",
     "text": [
      "98it [00:00, 116.57it/s]\n"
     ]
    }
   ],
   "source": [
    "# Sintaks for iteratively insert stations (from stations_csv) into stations table\n",
    "\n",
    "for idx, data in tqdm(stations.iterrows()):\n",
    "    data = data.fillna('').to_dict()\n",
    "    data_json = json.dumps(data, cls=NpEncoder)\n",
    "    \n",
    "    url = \"http://127.0.0.1:5000/stations/add\"\n",
    "    res = requests.post(url, json=data_json)"
   ]
  },
  {
   "cell_type": "markdown",
   "id": "6cc6da38",
   "metadata": {},
   "source": [
    "**TASK: Using the API, insert all the trips data (in csv) into the database by running the following codes**\\\n",
    "It might run differently on each devices, so you might get some rest while waiting for it to complete"
   ]
  },
  {
   "cell_type": "code",
   "execution_count": 24,
   "id": "0d6f3321",
   "metadata": {},
   "outputs": [
    {
     "name": "stderr",
     "output_type": "stream",
     "text": [
      "17982it [02:55, 102.38it/s]\n"
     ]
    }
   ],
   "source": [
    "#1324086 trips at first\n",
    "#17982 trips to insert\n",
    "#total should be 1342068\n",
    "for idx, data in tqdm(trips.iterrows()):\n",
    "    data = data.fillna('').to_dict()\n",
    "    data_json = json.dumps(data, cls=NpEncoder)\n",
    "    \n",
    "    url = \"http://127.0.0.1:5000/trips/add\"\n",
    "    res = requests.post(url, json=data_json)"
   ]
  },
  {
   "cell_type": "code",
   "execution_count": 26,
   "id": "fb004c39",
   "metadata": {},
   "outputs": [
    {
     "data": {
      "text/plain": [
       "1342068"
      ]
     },
     "execution_count": 26,
     "metadata": {},
     "output_type": "execute_result"
    }
   ],
   "source": [
    "res.text\n",
    "data_trip_all = get_all_trips(conn)\n",
    "data_trip_all.shape[0]"
   ]
  },
  {
   "cell_type": "markdown",
   "id": "4d086070",
   "metadata": {},
   "source": [
    "# Make your own analytic endpoints"
   ]
  },
  {
   "cell_type": "markdown",
   "id": "3ec50525",
   "metadata": {},
   "source": [
    "Based on what we've learned before, create your own endpoints which returns analytical result such as contigency tables, aggregation tables, or even just a values.\n",
    "\n",
    "*ps: if the return is dataframe/series, don't forget to change it into json with `.to_json()` method*"
   ]
  },
  {
   "cell_type": "markdown",
   "id": "8dd8621d",
   "metadata": {},
   "source": [
    "\n",
    "- [x] 1 point - Created Flask App\n",
    "- [x] 4 points - Created functionality to input new data into each table for the databases\n",
    "- [x] 2 poitns - Created functionality to read or get specific data from the database\n",
    "- [ ] 3 points - Created static endpoints which return analytical result (must be different from point 2,3)\n",
    "- [ ] 3 points - Created dynamic endpoints which return analytical result (must be different from point 2,3,4)\n",
    "- [ ] 3 points - Created POST endpoint which receive input data, then utilize it to get analytical result (must be different from point 2,3,4,5)\n"
   ]
  },
  {
   "cell_type": "markdown",
   "id": "8e05c3e0",
   "metadata": {},
   "source": [
    "## Create Static Endpoint(s)"
   ]
  },
  {
   "cell_type": "markdown",
   "id": "39187fe5",
   "metadata": {},
   "source": [
    "You can use the following cell to try-out your function before implementing it as an endpoint"
   ]
  },
  {
   "cell_type": "code",
   "execution_count": 78,
   "id": "2033f2fb",
   "metadata": {},
   "outputs": [
    {
     "data": {
      "text/plain": [
       "{\"('11th & San Jacinto', '11th & San Jacinto')\": 19.0,\n",
       " \"('11th & San Jacinto', 'East 11th St. at Victory Grill')\": 7.0,\n",
       " \"('11th & San Jacinto', 'Nueces @ 3rd')\": 20.0,\n",
       " \"('11th & San Jacinto', 'State Capitol Visitors Garage @ San Jacinto & 12th')\": 35.0,\n",
       " \"('ACC - West & 12th Street', 'Zilker Park West')\": 19.0,\n",
       " \"('Capital Metro HQ - East 5th at Broadway', 'Capital Metro HQ - East 5th at Broadway')\": 14.0,\n",
       " \"('Capital Metro HQ - East 5th at Broadway', 'Waller & 6th St.')\": 10.0,\n",
       " \"('East 11th St. at Victory Grill', 'East 11th St. at Victory Grill')\": 0.0,\n",
       " \"('East 11th St. at Victory Grill', 'Rainey @ River St')\": 27.0,\n",
       " \"('East 11th St. at Victory Grill', 'Waller & 6th St.')\": 7.0,\n",
       " \"('East 2nd & Pedernales', 'East 2nd & Pedernales')\": 31.5,\n",
       " \"('Lavaca & 6th', '11th & San Jacinto')\": 17.0,\n",
       " \"('Nueces @ 3rd', 'Lavaca & 6th')\": 0.0,\n",
       " \"('Nueces @ 3rd', 'Nueces @ 3rd')\": 10.2,\n",
       " \"('Nueces @ 3rd', 'Toomey Rd @ South Lamar')\": 11.3333333333,\n",
       " \"('Nueces @ 3rd', 'Zilker Park West')\": 11.0,\n",
       " \"('Pease Park', 'Pease Park')\": 47.0,\n",
       " \"('Rainey @ River St', 'Waller & 6th St.')\": 8.0,\n",
       " \"('Rainey @ River St', 'Zilker Park West')\": 30.0,\n",
       " \"('State Capitol @ 14th & Colorado', 'Capital Metro HQ - East 5th at Broadway')\": 20.0,\n",
       " \"('State Capitol @ 14th & Colorado', 'State Capitol @ 14th & Colorado')\": 82.5,\n",
       " \"('Toomey Rd @ South Lamar', 'Rainey @ River St')\": 23.0,\n",
       " \"('Toomey Rd @ South Lamar', 'Toomey Rd @ South Lamar')\": 20.5,\n",
       " \"('Toomey Rd @ South Lamar', 'Zilker Park West')\": 6.0,\n",
       " \"('Waller & 6th St.', 'East 11th St. at Victory Grill')\": 4.0,\n",
       " \"('Waller & 6th St.', 'East 2nd & Pedernales')\": 11.5,\n",
       " \"('Waller & 6th St.', 'Lavaca & 6th')\": 0.0,\n",
       " \"('Waller & 6th St.', 'Waller & 6th St.')\": 44.8,\n",
       " \"('Zilker Park West', 'ACC - West & 12th Street')\": 26.0,\n",
       " \"('Zilker Park West', 'Nueces @ 3rd')\": 23.5454545455,\n",
       " \"('Zilker Park West', 'Rainey @ River St')\": 135.0,\n",
       " \"('Zilker Park West', 'Waller & 6th St.')\": 43.0,\n",
       " \"('Zilker Park West', 'Zilker Park West')\": 5.2307692308}"
      ]
     },
     "execution_count": 78,
     "metadata": {},
     "output_type": "execute_result"
    }
   ],
   "source": [
    "# Your Code Here \n",
    "\n",
    "url = \"http://127.0.0.1:5000/trips/average_duration\"\n",
    "avg_res = requests.get(url)\n",
    "avg_res.json() ##json data on average duration minutes between stations\n"
   ]
  },
  {
   "cell_type": "markdown",
   "id": "4093cda2",
   "metadata": {},
   "source": [
    "## Create Dynamic Endpoints "
   ]
  },
  {
   "cell_type": "markdown",
   "id": "3087a961",
   "metadata": {},
   "source": [
    "You can use the following cell to try-out your function before implementing it as an endpoint"
   ]
  },
  {
   "cell_type": "code",
   "execution_count": 87,
   "id": "93a8d2be",
   "metadata": {},
   "outputs": [
    {
     "data": {
      "text/plain": [
       "{'bikeid': {'0': '432'}, 'av_per_bike': {'0': 28.0264138165}}"
      ]
     },
     "execution_count": 87,
     "metadata": {},
     "output_type": "execute_result"
    }
   ],
   "source": [
    "# Your Code Here\n",
    "\n",
    "url = \"http://127.0.0.1:5000/trips/average_duration/432\"\n",
    "avg_res = requests.get(url)\n",
    "avg_res.json() ##json data on average duration minutes per bike id"
   ]
  },
  {
   "cell_type": "markdown",
   "id": "6e35615f",
   "metadata": {},
   "source": [
    "## Create POST Endpoints"
   ]
  },
  {
   "cell_type": "markdown",
   "id": "a8dd5960",
   "metadata": {},
   "source": [
    "You can use the following cell to try-out your function before implementing it as an endpoint.\n",
    "\n",
    "If you still find it quite difficult, here's an example case you might wanted to try on:\n",
    "- input : a dictionary contained a datetime period\n",
    "    - { \"period\" : \"2015-08\" }\n",
    "- output:\n",
    "    - Aggregation table of bike rent activities for each station in that specific period\n",
    "- example code: \n",
    "\n",
    "```python \n",
    "input_data = request.get_json() # Get the input as dictionary\n",
    "specified_date = input_data['period'] # Select specific items (period) from the dictionary (the value will be \"2015-08\")\n",
    "\n",
    "# Subset the data with query \n",
    "conn = make_connection()\n",
    "query = f\"SELECT * FROM stations WHERE start_time LIKE ({specified_date}%)\"\n",
    "selected_data = pd.read_sql_query(query, conn)\n",
    "\n",
    "# Make the aggregate\n",
    "result = selected_data.groupby('start_station_id').agg({\n",
    "    'bikeid' : 'count', \n",
    "    'duration_minutes' : 'mean'\n",
    "})\n",
    "\n",
    "# Return the result\n",
    "return result.to_json()\n",
    "\n",
    "```"
   ]
  },
  {
   "cell_type": "code",
   "execution_count": 97,
   "id": "5c5ecfa8",
   "metadata": {},
   "outputs": [
    {
     "data": {
      "text/html": [
       "<div>\n",
       "<style scoped>\n",
       "    .dataframe tbody tr th:only-of-type {\n",
       "        vertical-align: middle;\n",
       "    }\n",
       "\n",
       "    .dataframe tbody tr th {\n",
       "        vertical-align: top;\n",
       "    }\n",
       "\n",
       "    .dataframe thead th {\n",
       "        text-align: right;\n",
       "    }\n",
       "</style>\n",
       "<table border=\"1\" class=\"dataframe\">\n",
       "  <thead>\n",
       "    <tr style=\"text-align: right;\">\n",
       "      <th></th>\n",
       "      <th>duration_minutes</th>\n",
       "    </tr>\n",
       "  </thead>\n",
       "  <tbody>\n",
       "    <tr>\n",
       "      <th>100</th>\n",
       "      <td>9.0</td>\n",
       "    </tr>\n",
       "    <tr>\n",
       "      <th>106</th>\n",
       "      <td>13.0</td>\n",
       "    </tr>\n",
       "    <tr>\n",
       "      <th>122</th>\n",
       "      <td>18.0</td>\n",
       "    </tr>\n",
       "    <tr>\n",
       "      <th>124</th>\n",
       "      <td>31.0</td>\n",
       "    </tr>\n",
       "    <tr>\n",
       "      <th>127</th>\n",
       "      <td>45.0</td>\n",
       "    </tr>\n",
       "    <tr>\n",
       "      <th>...</th>\n",
       "      <td>...</td>\n",
       "    </tr>\n",
       "    <tr>\n",
       "      <th>979</th>\n",
       "      <td>41.0</td>\n",
       "    </tr>\n",
       "    <tr>\n",
       "      <th>980</th>\n",
       "      <td>33.0</td>\n",
       "    </tr>\n",
       "    <tr>\n",
       "      <th>983</th>\n",
       "      <td>6.0</td>\n",
       "    </tr>\n",
       "    <tr>\n",
       "      <th>984</th>\n",
       "      <td>7.0</td>\n",
       "    </tr>\n",
       "    <tr>\n",
       "      <th>996</th>\n",
       "      <td>10.0</td>\n",
       "    </tr>\n",
       "  </tbody>\n",
       "</table>\n",
       "<p>162 rows × 1 columns</p>\n",
       "</div>"
      ],
      "text/plain": [
       "     duration_minutes\n",
       "100               9.0\n",
       "106              13.0\n",
       "122              18.0\n",
       "124              31.0\n",
       "127              45.0\n",
       "..                ...\n",
       "979              41.0\n",
       "980              33.0\n",
       "983               6.0\n",
       "984               7.0\n",
       "996              10.0\n",
       "\n",
       "[162 rows x 1 columns]"
      ]
     },
     "execution_count": 97,
     "metadata": {},
     "output_type": "execute_result"
    }
   ],
   "source": [
    "# Your Code Here\n",
    "data = {\n",
    "    \"start_station_id\" : 2502,\n",
    "    \"year_month\" : \"2016-01\"\n",
    "}\n",
    "# get bikeids that start from specific station in specific year_month\n",
    "url = \"http://127.0.0.1:5000/trips/station_trend\"\n",
    "res = requests.post(url, json=data)\n",
    "\n",
    "pd.DataFrame(res.json()) ##the index is bikeid"
   ]
  }
 ],
 "metadata": {
  "kernelspec": {
   "display_name": "da_rhea",
   "language": "python",
   "name": "da_rhea"
  },
  "language_info": {
   "codemirror_mode": {
    "name": "ipython",
    "version": 3
   },
   "file_extension": ".py",
   "mimetype": "text/x-python",
   "name": "python",
   "nbconvert_exporter": "python",
   "pygments_lexer": "ipython3",
   "version": "3.9.7"
  },
  "toc": {
   "base_numbering": 1,
   "nav_menu": {},
   "number_sections": true,
   "sideBar": true,
   "skip_h1_title": false,
   "title_cell": "Table of Contents",
   "title_sidebar": "Contents",
   "toc_cell": false,
   "toc_position": {},
   "toc_section_display": true,
   "toc_window_display": false
  },
  "toc-autonumbering": true
 },
 "nbformat": 4,
 "nbformat_minor": 5
}
